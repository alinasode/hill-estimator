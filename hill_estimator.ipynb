{
 "cells": [
  {
   "cell_type": "markdown",
   "metadata": {},
   "source": [
    "# The Hill Estimator"
   ]
  },
  {
   "cell_type": "code",
   "execution_count": 1,
   "metadata": {},
   "outputs": [],
   "source": [
    "import numpy as np\n",
    "from matplotlib import pyplot as plt\n",
    "from time import time\n",
    "\n",
    "import pandas as pd\n",
    "import seaborn as sns\n",
    "sns.set()"
   ]
  },
  {
   "cell_type": "code",
   "execution_count": 2,
   "metadata": {},
   "outputs": [],
   "source": [
    "from utils.functions import hill_estimator"
   ]
  },
  {
   "cell_type": "markdown",
   "metadata": {},
   "source": [
    "## Load S&P 500 Data and Split into Gains and Losses\n",
    "\n",
    "We start off by loading the given S&P data. The data is read correctly by stacking the rows togehter into one single column.\n",
    "\n",
    "We focus on both tails of the distributions. The left tail represents the losses, however, it is common to present the tail-index estimators for positive data. Therefore we will multiply the losses $X_i < 0$ by minus one, swapping the negative with the positive values. On the other hand; the right tail represents the gains $X_i >0$, and we simply keep these positive values.\n",
    "\n",
    "With increasing $k$ (number of order statistics) the Hill estimator is stabilizing. And the question is which $k$ gives a reasnable estimation of $\\kappa$. One might say that a good approximation of $\\kappa$ lies a region where the graph is stable. \n",
    "\n",
    "If looking at the graphs (for all $k$) for __both__ the __gains__ and __losses__ they do not show any extensive stable area of estimates. However, when looking at the zoomed in upper parts (for $k=10,...,0.1\\cdot n)$ they gives a much better picture. At some places the estimates seem to gain stability. \n",
    "\n",
    "For the __gains__ (right tail) a stable area could indicate an estimate around $\\kappa=2.6$, but it is still not that clear because of the volatibility of the plot is still not adequately tamed.\n",
    "\n",
    "For the __losses__ (left tial) one might say that a somewhat reasonable approximation could be $\\kappa=2.5$, but, as for opposite tail, the volatibility is not tamed and so it is not straightforward to get a good read on the estimation.\n",
    "\n",
    "\n",
    "__*Note*__: Code have been runned on a CPU."
   ]
  },
  {
   "cell_type": "code",
   "execution_count": 3,
   "metadata": {},
   "outputs": [
    {
     "data": {
      "text/html": [
       "<div>\n",
       "<style scoped>\n",
       "    .dataframe tbody tr th:only-of-type {\n",
       "        vertical-align: middle;\n",
       "    }\n",
       "\n",
       "    .dataframe tbody tr th {\n",
       "        vertical-align: top;\n",
       "    }\n",
       "\n",
       "    .dataframe thead th {\n",
       "        text-align: right;\n",
       "    }\n",
       "</style>\n",
       "<table border=\"1\" class=\"dataframe\">\n",
       "  <thead>\n",
       "    <tr style=\"text-align: right;\">\n",
       "      <th></th>\n",
       "      <th>Stacked Returns (%)</th>\n",
       "      <th>Gains</th>\n",
       "      <th>Losses</th>\n",
       "    </tr>\n",
       "  </thead>\n",
       "  <tbody>\n",
       "    <tr>\n",
       "      <th>0</th>\n",
       "      <td>-0.002255</td>\n",
       "      <td>NaN</td>\n",
       "      <td>-0.002255</td>\n",
       "    </tr>\n",
       "    <tr>\n",
       "      <th>1</th>\n",
       "      <td>-0.009640</td>\n",
       "      <td>NaN</td>\n",
       "      <td>-0.009640</td>\n",
       "    </tr>\n",
       "    <tr>\n",
       "      <th>2</th>\n",
       "      <td>0.006248</td>\n",
       "      <td>0.006248</td>\n",
       "      <td>NaN</td>\n",
       "    </tr>\n",
       "    <tr>\n",
       "      <th>3</th>\n",
       "      <td>0.001132</td>\n",
       "      <td>0.001132</td>\n",
       "      <td>NaN</td>\n",
       "    </tr>\n",
       "    <tr>\n",
       "      <th>4</th>\n",
       "      <td>-0.010233</td>\n",
       "      <td>NaN</td>\n",
       "      <td>-0.010233</td>\n",
       "    </tr>\n",
       "    <tr>\n",
       "      <th>...</th>\n",
       "      <td>...</td>\n",
       "      <td>...</td>\n",
       "      <td>...</td>\n",
       "    </tr>\n",
       "    <tr>\n",
       "      <th>19255</th>\n",
       "      <td>-0.007341</td>\n",
       "      <td>NaN</td>\n",
       "      <td>-0.007341</td>\n",
       "    </tr>\n",
       "    <tr>\n",
       "      <th>19256</th>\n",
       "      <td>-0.021279</td>\n",
       "      <td>NaN</td>\n",
       "      <td>-0.021279</td>\n",
       "    </tr>\n",
       "    <tr>\n",
       "      <th>19257</th>\n",
       "      <td>-0.004438</td>\n",
       "      <td>NaN</td>\n",
       "      <td>-0.004438</td>\n",
       "    </tr>\n",
       "    <tr>\n",
       "      <th>19258</th>\n",
       "      <td>-0.019362</td>\n",
       "      <td>NaN</td>\n",
       "      <td>-0.019362</td>\n",
       "    </tr>\n",
       "    <tr>\n",
       "      <th>19259</th>\n",
       "      <td>0.018169</td>\n",
       "      <td>0.018169</td>\n",
       "      <td>NaN</td>\n",
       "    </tr>\n",
       "  </tbody>\n",
       "</table>\n",
       "<p>19260 rows × 3 columns</p>\n",
       "</div>"
      ],
      "text/plain": [
       "       Stacked Returns (%)     Gains    Losses\n",
       "0                -0.002255       NaN -0.002255\n",
       "1                -0.009640       NaN -0.009640\n",
       "2                 0.006248  0.006248       NaN\n",
       "3                 0.001132  0.001132       NaN\n",
       "4                -0.010233       NaN -0.010233\n",
       "...                    ...       ...       ...\n",
       "19255            -0.007341       NaN -0.007341\n",
       "19256            -0.021279       NaN -0.021279\n",
       "19257            -0.004438       NaN -0.004438\n",
       "19258            -0.019362       NaN -0.019362\n",
       "19259             0.018169  0.018169       NaN\n",
       "\n",
       "[19260 rows x 3 columns]"
      ]
     },
     "execution_count": 3,
     "metadata": {},
     "output_type": "execute_result"
    }
   ],
   "source": [
    "\"\"\" Load S&P Data and split into gains (X_i > 0) and losses (X_i < 0) \"\"\"\n",
    "# Load S&P time series (as a dataframe):\n",
    "df_dummy = pd.read_csv('./data/sp500.txt', sep=\" \", header=None, skiprows=1)\n",
    "df_dummy\n",
    "\n",
    "# stick the rows togehter into one long column..:\n",
    "df_sp = df_dummy.stack().reset_index()                           # stack data (rows upon rows as one long column)\n",
    "df_sp.drop(['level_0', 'level_1'], axis=1, inplace=True)         # drop unnecessary columns \n",
    "df_sp.columns = ['Stacked Returns (%)']                          # rename column name for our stacked data.. \n",
    "\n",
    "# Split into gains and losses:\n",
    "df_sp['Gains'] = df_sp['Stacked Returns (%)'].where(df_sp['Stacked Returns (%)'] > 0)\n",
    "df_sp['Losses'] = df_sp['Stacked Returns (%)'].where(df_sp['Stacked Returns (%)'] < 0)\n",
    "\n",
    "df_sp"
   ]
  },
  {
   "cell_type": "code",
   "execution_count": 4,
   "metadata": {},
   "outputs": [
    {
     "data": {
      "text/html": [
       "<div>\n",
       "<style scoped>\n",
       "    .dataframe tbody tr th:only-of-type {\n",
       "        vertical-align: middle;\n",
       "    }\n",
       "\n",
       "    .dataframe tbody tr th {\n",
       "        vertical-align: top;\n",
       "    }\n",
       "\n",
       "    .dataframe thead th {\n",
       "        text-align: right;\n",
       "    }\n",
       "</style>\n",
       "<table border=\"1\" class=\"dataframe\">\n",
       "  <thead>\n",
       "    <tr style=\"text-align: right;\">\n",
       "      <th></th>\n",
       "      <th>Gains</th>\n",
       "    </tr>\n",
       "  </thead>\n",
       "  <tbody>\n",
       "    <tr>\n",
       "      <th>0</th>\n",
       "      <td>0.006248</td>\n",
       "    </tr>\n",
       "    <tr>\n",
       "      <th>1</th>\n",
       "      <td>0.001132</td>\n",
       "    </tr>\n",
       "    <tr>\n",
       "      <th>2</th>\n",
       "      <td>0.006893</td>\n",
       "    </tr>\n",
       "    <tr>\n",
       "      <th>3</th>\n",
       "      <td>0.006277</td>\n",
       "    </tr>\n",
       "    <tr>\n",
       "      <th>4</th>\n",
       "      <td>0.000578</td>\n",
       "    </tr>\n",
       "    <tr>\n",
       "      <th>...</th>\n",
       "      <td>...</td>\n",
       "    </tr>\n",
       "    <tr>\n",
       "      <th>10384</th>\n",
       "      <td>0.017744</td>\n",
       "    </tr>\n",
       "    <tr>\n",
       "      <th>10385</th>\n",
       "      <td>0.009297</td>\n",
       "    </tr>\n",
       "    <tr>\n",
       "      <th>10386</th>\n",
       "      <td>0.021857</td>\n",
       "    </tr>\n",
       "    <tr>\n",
       "      <th>10387</th>\n",
       "      <td>0.009375</td>\n",
       "    </tr>\n",
       "    <tr>\n",
       "      <th>10388</th>\n",
       "      <td>0.018169</td>\n",
       "    </tr>\n",
       "  </tbody>\n",
       "</table>\n",
       "<p>10389 rows × 1 columns</p>\n",
       "</div>"
      ],
      "text/plain": [
       "          Gains\n",
       "0      0.006248\n",
       "1      0.001132\n",
       "2      0.006893\n",
       "3      0.006277\n",
       "4      0.000578\n",
       "...         ...\n",
       "10384  0.017744\n",
       "10385  0.009297\n",
       "10386  0.021857\n",
       "10387  0.009375\n",
       "10388  0.018169\n",
       "\n",
       "[10389 rows x 1 columns]"
      ]
     },
     "execution_count": 4,
     "metadata": {},
     "output_type": "execute_result"
    }
   ],
   "source": [
    "\"\"\" Remove NaN values (empty rows) and compute the gains \"\"\"\n",
    "# Construct new dataframe for gains:\n",
    "df_sp_gains = df_sp[['Gains']].copy()\n",
    "# Remove empty cells:\n",
    "df_sp_gains.dropna(subset = ['Gains'], inplace=True)\n",
    "# Reset dataframe index:\n",
    "df_sp_gains.reset_index(drop=True, inplace=True)\n",
    "\n",
    "df_sp_gains"
   ]
  },
  {
   "cell_type": "code",
   "execution_count": 5,
   "metadata": {},
   "outputs": [
    {
     "data": {
      "text/html": [
       "<div>\n",
       "<style scoped>\n",
       "    .dataframe tbody tr th:only-of-type {\n",
       "        vertical-align: middle;\n",
       "    }\n",
       "\n",
       "    .dataframe tbody tr th {\n",
       "        vertical-align: top;\n",
       "    }\n",
       "\n",
       "    .dataframe thead th {\n",
       "        text-align: right;\n",
       "    }\n",
       "</style>\n",
       "<table border=\"1\" class=\"dataframe\">\n",
       "  <thead>\n",
       "    <tr style=\"text-align: right;\">\n",
       "      <th></th>\n",
       "      <th>Losses</th>\n",
       "    </tr>\n",
       "  </thead>\n",
       "  <tbody>\n",
       "    <tr>\n",
       "      <th>0</th>\n",
       "      <td>0.002255</td>\n",
       "    </tr>\n",
       "    <tr>\n",
       "      <th>1</th>\n",
       "      <td>0.009640</td>\n",
       "    </tr>\n",
       "    <tr>\n",
       "      <th>2</th>\n",
       "      <td>0.010233</td>\n",
       "    </tr>\n",
       "    <tr>\n",
       "      <th>3</th>\n",
       "      <td>0.007456</td>\n",
       "    </tr>\n",
       "    <tr>\n",
       "      <th>4</th>\n",
       "      <td>0.001152</td>\n",
       "    </tr>\n",
       "    <tr>\n",
       "      <th>...</th>\n",
       "      <td>...</td>\n",
       "    </tr>\n",
       "    <tr>\n",
       "      <th>8866</th>\n",
       "      <td>0.012520</td>\n",
       "    </tr>\n",
       "    <tr>\n",
       "      <th>8867</th>\n",
       "      <td>0.007341</td>\n",
       "    </tr>\n",
       "    <tr>\n",
       "      <th>8868</th>\n",
       "      <td>0.021279</td>\n",
       "    </tr>\n",
       "    <tr>\n",
       "      <th>8869</th>\n",
       "      <td>0.004438</td>\n",
       "    </tr>\n",
       "    <tr>\n",
       "      <th>8870</th>\n",
       "      <td>0.019362</td>\n",
       "    </tr>\n",
       "  </tbody>\n",
       "</table>\n",
       "<p>8871 rows × 1 columns</p>\n",
       "</div>"
      ],
      "text/plain": [
       "        Losses\n",
       "0     0.002255\n",
       "1     0.009640\n",
       "2     0.010233\n",
       "3     0.007456\n",
       "4     0.001152\n",
       "...        ...\n",
       "8866  0.012520\n",
       "8867  0.007341\n",
       "8868  0.021279\n",
       "8869  0.004438\n",
       "8870  0.019362\n",
       "\n",
       "[8871 rows x 1 columns]"
      ]
     },
     "execution_count": 5,
     "metadata": {},
     "output_type": "execute_result"
    }
   ],
   "source": [
    "\"\"\" Remove NaN values (empty rows) and compute the losses multiplied by -1 \"\"\"\n",
    "# Construct new dataframe for losses:\n",
    "df_sp_loss = df_sp[['Losses']].copy()\n",
    "# Remove empty cells:\n",
    "df_sp_loss.dropna(subset = ['Losses'], inplace=True)\n",
    "# Multiply all values by -1:\n",
    "df_sp_loss['Losses'] = df_sp_loss['Losses'] * (-1)\n",
    "# Reset dataframe index:\n",
    "df_sp_loss.reset_index(drop=True, inplace=True)\n",
    "\n",
    "df_sp_loss"
   ]
  },
  {
   "cell_type": "markdown",
   "metadata": {},
   "source": [
    "## Hill Estimator for Gains"
   ]
  },
  {
   "cell_type": "code",
   "execution_count": 6,
   "metadata": {},
   "outputs": [
    {
     "name": "stdout",
     "output_type": "stream",
     "text": [
      "[INFO] computing Hill Estimators...\n",
      "        done in 6.299 minutes\n",
      "\n",
      "Sample size n: 10389\n",
      "Total number of exceeded k: 10388\n"
     ]
    }
   ],
   "source": [
    "\"\"\" Compute Hill Estimator for Gains \"\"\"\n",
    "\n",
    "n_obs = len(df_sp_gains['Gains'])\n",
    "k_max = int(round(0.1*n_obs))\n",
    "k_min = 10\n",
    "\n",
    "print(\"[INFO] computing Hill Estimators...\")\n",
    "t0 = time()\n",
    "\n",
    "kap_gains = hill_estimator(df_sp_gains['Gains'].to_numpy())\n",
    "\n",
    "print (\"        done in %0.3f minutes\" % ((time() - t0)/60))\n",
    "print (\"\")\n",
    "\n",
    "print (\"Sample size n:\", n_obs)\n",
    "print (\"Total number of exceeded k:\", len(kap_gains))"
   ]
  },
  {
   "cell_type": "code",
   "execution_count": 7,
   "metadata": {},
   "outputs": [
    {
     "data": {
      "image/png": "[encoded data removed]",
      "text/plain": [
       "<Figure size 1080x432 with 1 Axes>"
      ]
     },
     "metadata": {},
     "output_type": "display_data"
    }
   ],
   "source": [
    "\"\"\" Hill Plot for Gains for k in range (10,...,round(0.1*n_obs)) \"\"\"\n",
    "\n",
    "plt.figure(figsize=(15, 6))\n",
    "plt.plot(np.arange(k_min,k_max), kap_gains[k_min-1:k_max-1], 'green')\n",
    "plt.xlabel(\"$k$ (number of order statistics)\", fontsize=18)\n",
    "plt.ylabel(\"$\\kappa$ (Hill Estimate)\", fontsize=18)\n",
    "plt.title(\"Hill Plot over S&P 500 Gains (right tail)\", fontsize=20)\n",
    "plt.show()"
   ]
  },
  {
   "cell_type": "markdown",
   "metadata": {},
   "source": [
    "## Hill Estimator for Losses"
   ]
  },
  {
   "cell_type": "code",
   "execution_count": 8,
   "metadata": {},
   "outputs": [
    {
     "name": "stdout",
     "output_type": "stream",
     "text": [
      "[INFO] computing Hill Estimators...\n",
      "        done in 4.616 minutes\n",
      "\n",
      "Sample size n: 8871\n",
      "Total # of exceeded k: 8870\n"
     ]
    }
   ],
   "source": [
    "\"\"\" Compute Hill Estimator for Losses \"\"\"\n",
    "\n",
    "print(\"[INFO] computing Hill Estimators...\")\n",
    "t0 = time()\n",
    "\n",
    "n_obs = len(df_sp_loss['Losses'])\n",
    "k_max = int(round(0.1*n_obs))\n",
    "k_min = 10\n",
    "\n",
    "kap_loss = hill_estimator(df_sp_loss['Losses'].to_numpy())\n",
    "\n",
    "print (\"        done in %0.3f minutes\" % ((time() - t0)/60))\n",
    "print (\"\")\n",
    "\n",
    "print (\"Sample size n:\", n_obs)\n",
    "print (\"Total # of exceeded k:\", len(kap_loss))"
   ]
  },
  {
   "cell_type": "code",
   "execution_count": 9,
   "metadata": {},
   "outputs": [
    {
     "data": {
      "image/png": "[encoded data removed]",
      "text/plain": [
       "<Figure size 1080x432 with 1 Axes>"
      ]
     },
     "metadata": {},
     "output_type": "display_data"
    }
   ],
   "source": [
    "\"\"\" Hill Plot for Losses for k in range (10,...,round(0.1*n_obs)) \"\"\"\n",
    "\n",
    "plt.figure(figsize=(15, 6))\n",
    "plt.plot(np.arange(k_min,k_max), kap_loss[k_min-1:k_max-1], 'red')\n",
    "plt.xlabel(\"$k$ (number of order statistics)\", fontsize=18)\n",
    "plt.ylabel(\"$\\kappa$ (Hill Estimate)\", fontsize=18)\n",
    "plt.title(\"Hill Plot over S&P 500 Losses (left tail)\", fontsize=20)\n",
    "\n",
    "plt.show()"
   ]
  }
 ],
 "metadata": {
  "kernelspec": {
   "display_name": "Python 3",
   "language": "python",
   "name": "python3"
  },
  "language_info": {
   "codemirror_mode": {
    "name": "ipython",
    "version": 3
   },
   "file_extension": ".py",
   "mimetype": "text/x-python",
   "name": "python",
   "nbconvert_exporter": "python",
   "pygments_lexer": "ipython3",
   "version": "3.6.10"
  }
 },
 "nbformat": 4,
 "nbformat_minor": 4
}